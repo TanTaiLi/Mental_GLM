{
 "cells": [
  {
   "cell_type": "code",
   "execution_count": 2,
   "id": "628ed9d8-16b6-440b-9a79-4ab10d604c7a",
   "metadata": {
    "tags": []
   },
   "outputs": [
    {
     "name": "stderr",
     "output_type": "stream",
     "text": [
      "/tmp/ipykernel_2465/2734358066.py:7: DeprecationWarning: the imp module is deprecated in favour of importlib; see the module's documentation for alternative uses\n",
      "  from imp import reload\n"
     ]
    },
    {
     "name": "stdout",
     "output_type": "stream",
     "text": [
      "b'{\"returnPhrase\":[\"hello\"],\"query\":\"hello\",\"errorCode\":\"0\",\"l\":\"en2zh-CHS\",\"tSpeakUrl\":\"https://openapi.youdao.com/ttsapi?q=%E4%BD%A0%E5%A5%BD&langType=zh-CHS&sign=2400C924B1DEDB3F0F53EB65F5B49A7E&salt=1708081632116&voice=4&format=mp3&appKey=409474ccb19307a8&ttsVoiceStrict=false&osType=api\",\"web\":[{\"value\":[\"\\xe6\\x82\\xa8\\xe5\\xa5\\xbd\",\"\\xe5\\x93\\x88\\xe5\\x95\\xb0\",\"\\xe5\\x96\\x82\"],\"key\":\"Hello\"},{\"value\":[\"\\xe5\\x87\\xaf\\xe8\\x92\\x82\\xe7\\x8c\\xab\",\"\\xe5\\x90\\x89\\xe8\\x92\\x82\\xe7\\x8c\\xab\"],\"key\":\"Hello Kitty\"},{\"value\":[\"\\xe4\\xbd\\xa0\\xe5\\xa5\\xbd\\xe9\\x82\\xbb\\xe5\\xb1\\x85\"],\"key\":\"Hello Neighbor\"}],\"requestId\":\"fda68d43-6978-4fbf-9fc6-0ede2b6af100\",\"translation\":[\"\\xe4\\xbd\\xa0\\xe5\\xa5\\xbd\"],\"mTerminalDict\":{\"url\":\"https://m.youdao.com/m/result?lang=en&word=hello\"},\"dict\":{\"url\":\"yddict://m.youdao.com/dict?le=eng&q=hello\"},\"webdict\":{\"url\":\"http://mobile.youdao.com/dict?le=eng&q=hello\"},\"basic\":{\"exam_type\":[\"\\xe5\\x88\\x9d\\xe4\\xb8\\xad\",\"\\xe9\\xab\\x98\\xe4\\xb8\\xad\",\"CET4\",\"CET6\",\"\\xe8\\x80\\x83\\xe7\\xa0\\x94\"],\"us-phonetic\":\"h\\xc9\\x99\\xcb\\x88lo\\xca\\x8a\",\"phonetic\":\"h\\xc9\\x99\\xcb\\x88l\\xc9\\x99\\xca\\x8a\",\"uk-phonetic\":\"h\\xc9\\x99\\xcb\\x88l\\xc9\\x99\\xca\\x8a\",\"wfs\":[{\"wf\":{\"name\":\"\\xe5\\xa4\\x8d\\xe6\\x95\\xb0\",\"value\":\"hellos\"}},{\"wf\":{\"name\":\"\\xe7\\xac\\xac\\xe4\\xb8\\x89\\xe4\\xba\\xba\\xe7\\xa7\\xb0\\xe5\\x8d\\x95\\xe6\\x95\\xb0\",\"value\":\"helloes\"}},{\"wf\":{\"name\":\"\\xe7\\x8e\\xb0\\xe5\\x9c\\xa8\\xe5\\x88\\x86\\xe8\\xaf\\x8d\",\"value\":\"helloing\"}},{\"wf\":{\"name\":\"\\xe8\\xbf\\x87\\xe5\\x8e\\xbb\\xe5\\xbc\\x8f\",\"value\":\"helloed\"}},{\"wf\":{\"name\":\"\\xe8\\xbf\\x87\\xe5\\x8e\\xbb\\xe5\\x88\\x86\\xe8\\xaf\\x8d\",\"value\":\"helloed\"}}],\"uk-speech\":\"https://openapi.youdao.com/ttsapi?q=hello&langType=en&sign=E6200F3D695C14CB476784ED0CE6A2FE&salt=1708081632116&voice=5&format=mp3&appKey=409474ccb19307a8&ttsVoiceStrict=false&osType=api\",\"explains\":[\"int. \\xe5\\x96\\x82\\xef\\xbc\\x8c\\xe4\\xbd\\xa0\\xe5\\xa5\\xbd\\xef\\xbc\\x88\\xe7\\x94\\xa8\\xe4\\xba\\x8e\\xe9\\x97\\xae\\xe5\\x80\\x99\\xe6\\x88\\x96\\xe6\\x89\\x93\\xe6\\x8b\\x9b\\xe5\\x91\\xbc\\xef\\xbc\\x89\\xef\\xbc\\x9b\\xe5\\x96\\x82\\xef\\xbc\\x8c\\xe4\\xbd\\xa0\\xe5\\xa5\\xbd\\xef\\xbc\\x88\\xe6\\x89\\x93\\xe7\\x94\\xb5\\xe8\\xaf\\x9d\\xe6\\x97\\xb6\\xe7\\x9a\\x84\\xe6\\x8b\\x9b\\xe5\\x91\\xbc\\xe8\\xaf\\xad\\xef\\xbc\\x89\\xef\\xbc\\x9b\\xe5\\x96\\x82\\xef\\xbc\\x8c\\xe4\\xbd\\xa0\\xe5\\xa5\\xbd\\xef\\xbc\\x88\\xe5\\xbc\\x95\\xe8\\xb5\\xb7\\xe5\\x88\\xab\\xe4\\xba\\xba\\xe6\\xb3\\xa8\\xe6\\x84\\x8f\\xe7\\x9a\\x84\\xe6\\x8b\\x9b\\xe5\\x91\\xbc\\xe8\\xaf\\xad\\xef\\xbc\\x89\\xef\\xbc\\x9b<\\xe9\\x9d\\x9e\\xe6\\xad\\xa3\\xe5\\xbc\\x8f>\\xe5\\x96\\x82\\xef\\xbc\\x8c\\xe5\\x98\\xbf (\\xe8\\xae\\xa4\\xe4\\xb8\\xba\\xe5\\x88\\xab\\xe4\\xba\\xba\\xe8\\xaf\\xb4\\xe4\\xba\\x86\\xe8\\xa0\\xa2\\xe8\\xaf\\x9d\\xe6\\x88\\x96\\xe5\\x88\\x86\\xe5\\xbf\\x83)\\xef\\xbc\\x9b<\\xe8\\x8b\\xb1\\xef\\xbc\\x8c\\xe6\\x97\\xa7>\\xe5\\x98\\xbf\\xef\\xbc\\x88\\xe8\\xa1\\xa8\\xe7\\xa4\\xba\\xe6\\x83\\x8a\\xe8\\xae\\xb6\\xef\\xbc\\x89\",\"n. \\xe6\\x8b\\x9b\\xe5\\x91\\xbc\\xef\\xbc\\x8c\\xe9\\x97\\xae\\xe5\\x80\\x99\\xef\\xbc\\x9b\\xef\\xbc\\x88Hello\\xef\\xbc\\x89\\xef\\xbc\\x88\\xe6\\xb3\\x95\\xe3\\x80\\x81\\xe5\\x8d\\xb0\\xe3\\x80\\x81\\xe7\\xbe\\x8e\\xe3\\x80\\x81\\xe4\\xbf\\x84\\xef\\xbc\\x89\\xe5\\x9f\\x83\\xe6\\xb4\\x9b\\xef\\xbc\\x88\\xe4\\xba\\xba\\xe5\\x90\\x8d\\xef\\xbc\\x89\",\"v. \\xe8\\xaf\\xb4\\xef\\xbc\\x88\\xe6\\x88\\x96\\xe5\\xa4\\xa7\\xe5\\xa3\\xb0\\xe8\\xaf\\xb4\\xef\\xbc\\x89\\xe2\\x80\\x9c\\xe5\\x96\\x82\\xe2\\x80\\x9d\\xef\\xbc\\x9b\\xe6\\x89\\x93\\xe6\\x8b\\x9b\\xe5\\x91\\xbc\"],\"us-speech\":\"https://openapi.youdao.com/ttsapi?q=hello&langType=en&sign=E6200F3D695C14CB476784ED0CE6A2FE&salt=1708081632116&voice=6&format=mp3&appKey=409474ccb19307a8&ttsVoiceStrict=false&osType=api\"},\"isWord\":true,\"speakUrl\":\"https://openapi.youdao.com/ttsapi?q=hello&langType=en-USA&sign=E6200F3D695C14CB476784ED0CE6A2FE&salt=1708081632116&voice=4&format=mp3&appKey=409474ccb19307a8&ttsVoiceStrict=false&osType=api\"}'\n"
     ]
    }
   ],
   "source": [
    "# -*- coding: utf-8 -*-\n",
    "import sys\n",
    "import uuid\n",
    "import requests\n",
    "import hashlib\n",
    "import time\n",
    "from imp import reload\n",
    "\n",
    "import time\n",
    "\n",
    "reload(sys)\n",
    "\n",
    "YOUDAO_URL = 'https://openapi.youdao.com/api'\n",
    "APP_KEY = '409474ccb19307a8'\n",
    "APP_SECRET = '0cBG33201eeC1Co5FOCyzxRpRTF15q3D'\n",
    "\n",
    "\n",
    "def encrypt(signStr):\n",
    "    hash_algorithm = hashlib.sha256()\n",
    "    hash_algorithm.update(signStr.encode('utf-8'))\n",
    "    return hash_algorithm.hexdigest()\n",
    "\n",
    "\n",
    "def truncate(q):\n",
    "    if q is None:\n",
    "        return None\n",
    "    size = len(q)\n",
    "    return q if size <= 20 else q[0:10] + str(size) + q[size - 10:size]\n",
    "\n",
    "\n",
    "def do_request(data):\n",
    "    headers = {'Content-Type': 'application/x-www-form-urlencoded'}\n",
    "    return requests.post(YOUDAO_URL, data=data, headers=headers)\n",
    "\n",
    "\n",
    "def connect():\n",
    "    q = \"hello\"\n",
    "\n",
    "    data = {}\n",
    "    data['from'] = 'en'\n",
    "    data['to'] = 'zh-CHS'\n",
    "    data['signType'] = 'v3'\n",
    "    curtime = str(int(time.time()))\n",
    "    data['curtime'] = curtime\n",
    "    salt = str(uuid.uuid1())\n",
    "    signStr = APP_KEY + truncate(q) + salt + curtime + APP_SECRET\n",
    "    sign = encrypt(signStr)\n",
    "    data['appKey'] = APP_KEY\n",
    "    data['q'] = q\n",
    "    data['salt'] = salt\n",
    "    data['sign'] = sign\n",
    "    data['vocabId'] = \"您的用户词表ID\"\n",
    "\n",
    "    response = do_request(data)\n",
    "    contentType = response.headers['Content-Type']\n",
    "    if contentType == \"audio/mp3\":\n",
    "        millis = int(round(time.time() * 1000))\n",
    "        filePath = \"合成的音频存储路径\" + str(millis) + \".mp3\"\n",
    "        fo = open(filePath, 'wb')\n",
    "        fo.write(response.content)\n",
    "        fo.close()\n",
    "    else:\n",
    "        print(response.content)\n",
    "\n",
    "\n",
    "if __name__ == '__main__':\n",
    "    connect()"
   ]
  },
  {
   "cell_type": "code",
   "execution_count": 1,
   "id": "83d5f6be-4a52-445f-b7e1-eb6c55a65e8e",
   "metadata": {
    "tags": []
   },
   "outputs": [
    {
     "ename": "ModuleNotFoundError",
     "evalue": "No module named 'utils'",
     "output_type": "error",
     "traceback": [
      "\u001b[0;31m---------------------------------------------------------------------------\u001b[0m",
      "\u001b[0;31mModuleNotFoundError\u001b[0m                       Traceback (most recent call last)",
      "Cell \u001b[0;32mIn[1], line 3\u001b[0m\n\u001b[1;32m      1\u001b[0m \u001b[38;5;28;01mimport\u001b[39;00m \u001b[38;5;21;01mrequests\u001b[39;00m\n\u001b[0;32m----> 3\u001b[0m \u001b[38;5;28;01mfrom\u001b[39;00m \u001b[38;5;21;01mutils\u001b[39;00m\u001b[38;5;21;01m.\u001b[39;00m\u001b[38;5;21;01mAuthV3Util\u001b[39;00m \u001b[38;5;28;01mimport\u001b[39;00m addAuthParams\n\u001b[1;32m      5\u001b[0m \u001b[38;5;66;03m# 您的应用ID\u001b[39;00m\n\u001b[1;32m      6\u001b[0m APP_KEY \u001b[38;5;241m=\u001b[39m \u001b[38;5;124m'\u001b[39m\u001b[38;5;124m409474ccb19307a8\u001b[39m\u001b[38;5;124m'\u001b[39m\n",
      "\u001b[0;31mModuleNotFoundError\u001b[0m: No module named 'utils'"
     ]
    }
   ],
   "source": [
    "import requests\n",
    "\n",
    "from utils.AuthV3Util import addAuthParams\n",
    "\n",
    "# 您的应用ID\n",
    "APP_KEY = ''\n",
    "# 您的应用密钥\n",
    "APP_SECRET = ''\n",
    "\n",
    "\n",
    "def createRequest():\n",
    "    '''\n",
    "    note: 将下列变量替换为需要请求的参数\n",
    "    '''\n",
    "    q = 'hello'\n",
    "    lang_from = 'en'\n",
    "    lang_to = 'zh-CHS'\n",
    "    vocab_id = '您的用户词表ID'\n",
    "\n",
    "    data = {'q': q, 'from': lang_from, 'to': lang_to, 'vocabId': vocab_id}\n",
    "\n",
    "    addAuthParams(APP_KEY, APP_SECRET, data)\n",
    "\n",
    "    header = {'Content-Type': 'application/x-www-form-urlencoded'}\n",
    "    res = doCall('https://openapi.youdao.com/api', header, data, 'post')\n",
    "    print(str(res.content, 'utf-8'))\n",
    "\n",
    "\n",
    "def doCall(url, header, params, method):\n",
    "    if 'get' == method:\n",
    "        return requests.get(url, params)\n",
    "    elif 'post' == method:\n",
    "        return requests.post(url, params, header)\n",
    "\n",
    "# 网易有道智云翻译服务api调用demo\n",
    "# api接口: https://openapi.youdao.com/api\n",
    "if __name__ == '__main__':\n",
    "    createRequest()"
   ]
  },
  {
   "cell_type": "code",
   "execution_count": null,
   "id": "7b7fc19f-f3a8-4fba-872e-342170642adf",
   "metadata": {},
   "outputs": [],
   "source": []
  }
 ],
 "metadata": {
  "kernelspec": {
   "display_name": "Python 3 (ipykernel)",
   "language": "python",
   "name": "python3"
  },
  "language_info": {
   "codemirror_mode": {
    "name": "ipython",
    "version": 3
   },
   "file_extension": ".py",
   "mimetype": "text/x-python",
   "name": "python",
   "nbconvert_exporter": "python",
   "pygments_lexer": "ipython3",
   "version": "3.8.10"
  }
 },
 "nbformat": 4,
 "nbformat_minor": 5
}
