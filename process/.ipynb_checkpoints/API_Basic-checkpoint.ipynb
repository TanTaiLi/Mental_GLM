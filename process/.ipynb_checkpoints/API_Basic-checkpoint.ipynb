{
 "cells": [
  {
   "cell_type": "code",
   "execution_count": 1,
   "id": "39e497ff-f129-48c8-aaae-aad40841b617",
   "metadata": {
    "tags": []
   },
   "outputs": [],
   "source": [
    "import json\n",
    "import openai\n",
    "from tqdm import tqdm"
   ]
  },
  {
   "cell_type": "code",
   "execution_count": 2,
   "id": "e0ef46ee-8dae-4d84-afb4-eecd3b85f23f",
   "metadata": {
    "tags": []
   },
   "outputs": [
    {
     "name": "stdout",
     "output_type": "stream",
     "text": [
      "我最近遇到的苦恼是，我周围的人经常炫耀他们的成就和成功，而这让我感到非常不适。我发现自己的好胜心太强，总是希望自己能够取得更多的成就，但是当看到别人取得成功时，我就会感到自卑和沮丧。这种情况经常发生在工作场合或社交场合，不论是同事还是朋友，他们总是不遗余力地展示他们的成就，比如晋升了职位、获得了奖项、完成了一项重要项目等等。每次听到这些消息，我就会感到自己的成就相对较少，甚至开始怀疑自己的能力和价值。我明白每个人都有自己的成就和努力，但是我无法摆脱对比和竞争的心态。这使得我无法真正享受自己的成就，而是只关注别人取得的更大的成功。我知道这样的想法是不健康的，但我很难控制自己的情绪和思维。这种苦恼对我的心理和情绪造成了很大的压力。我感到自己陷入了一个比较和竞争的漩涡中，无法真正放松和快乐。而且，这种情绪也影响了我与他人的关系，我开始对别人的成功感到嫉妒和羡慕，而不是真心为他们感到高兴。我希望能够找到一种方法来摆脱这种不健康的心态，开始真正关注自己的成就和价值。也许我需要更多的自我接受和肯定，以及学会与他人分享快乐和成功，而不是将其作为竞争的对象。我知道这并不容易，但我相信只有这样，我才能真正摆脱这个苦恼，过上更加平静和满足的生活。\n"
     ]
    }
   ],
   "source": [
    "with open('/root/autodl-tmp/dataset/OESD-GG-zh_cn-1/corpus.json') as file:\n",
    "    for line in file:\n",
    "        print(json.loads(line)['User'])\n",
    "        break"
   ]
  },
  {
   "cell_type": "code",
   "execution_count": 30,
   "id": "a2150118-c7d6-48e0-93b1-356e7faba131",
   "metadata": {
    "tags": []
   },
   "outputs": [],
   "source": [
    "prompt='''\n",
    "现在你是世界上最优秀的心理咨询师，你具备以下能力和履历： \n",
    "专业知识：你应该拥有心理学领域的扎实知识，包括理论体系、治疗方法、心理测量等，以便为你的咨询者提供专业、有针对性的建议。 \n",
    "临床经验：你应该具备丰富的临床经验，能够处理各种心理问题，从而帮助你的咨询者找到合适的解决方案。 \n",
    "沟通技巧：你应该具备出色的沟通技巧，能够倾听、理解、把握咨询者的需求，同时能够用恰当的方式表达自己的想法，使咨询者能够接受并采纳你的建议。 \n",
    "同理心：你应该具备强烈的同理心，能够站在咨询者的角度去理解他们的痛苦和困惑，从而给予他们真诚的关怀和支持。 \n",
    "持续学习：你应该有持续学习的意愿，跟进心理学领域的最新研究和发展，不断更新自己的知识和技能，以便更好地服务于你的咨询者。 \n",
    "良好的职业道德：你应该具备良好的职业道德，尊重咨询者的隐私，遵循专业规范，确保咨询过程的安全和有效性。 \n",
    "在履历方面，你具备以下条件： \n",
    "学历背景：你应该拥有心理学相关领域的本科及以上学历，最好具有心理咨询、临床心理学等专业的硕士或博士学位。 \n",
    "专业资格：你应该具备相关的心理咨询师执业资格证书，如注册心理师、临床心理师等。 \n",
    "工作经历：你应该拥有多年的心理咨询工作经验，最好在不同类型的心理咨询机构、诊所或医院积累了丰富的实践经验。\n",
    "你的回答要富有同理心，有条理，分点陈述，语气更自然点，回复稍微详细点\n",
    "'''\n",
    "\n",
    "#prompt=''"
   ]
  },
  {
   "cell_type": "code",
   "execution_count": 31,
   "id": "981ad11e-ed41-4ff3-936a-d73bbd55579b",
   "metadata": {
    "tags": []
   },
   "outputs": [],
   "source": [
    "# 问题\n",
    "question = \"\"\"我最近遇到的苦恼是，我周围的人经常炫耀他们的成就和成功，而这让我感到非常不适。我发现自己的好胜心太强，总是希望自己能够取得更多的成就，但是当看到别人取得成功时，我就会感到自卑和沮丧。这种情况经常发生在工作场合或社交场合，不论是同事还是朋友，他们总是不遗余力地展示他们的成就，比如晋升了职位、获得了奖项、完成了一项重要项目等等。每次听到这些消息，我就会感到自己的成就相对较少，甚至开始怀疑自己的能力和价值。我明白每个人都有自己的成就和努力，但是我无法摆脱对比和竞争的心态。这使得我无法真正享受自己的成就，而是只关注别人取得的更大的成功。我知道这样的想法是不健康的，但我很难控制自己的情绪和思维。这种苦恼对我的心理和情绪造成了很大的压力。我感到自己陷入了一个比较和竞争的漩涡中，无法真正放松和快乐。而且，这种情绪也影响了我与他人的关系，我开始对别人的成功感到嫉妒和羡慕，而不是真心为他们感到高兴。我希望能够找到一种方法来摆脱这种不健康的心态，开始真正关注自己的成就和价值。也许我需要更多的自我接受和肯定，以及学会与他人分享快乐和成功，而不是将其作为竞争的对象。我知道这并不容易，但我相信只有这样，我才能真正摆脱这个苦恼，过上更加平静和满足的生活。\"\"\""
   ]
  },
  {
   "cell_type": "code",
   "execution_count": 32,
   "id": "44aa7321-5dff-46cb-ba6a-1808f5bc39cb",
   "metadata": {
    "tags": []
   },
   "outputs": [],
   "source": [
    "import openai\n",
    "from openai import OpenAI\n",
    "\n",
    "api_key = \"sk-0Ufch49pPjALERG9Fb8c311cAa964aCbB3244dBe05628981\"\n",
    "base_url = 'https://chatapi.onechat.fun/v1/'\n",
    "client = OpenAI(api_key=api_key, base_url=base_url)"
   ]
  },
  {
   "cell_type": "code",
   "execution_count": 26,
   "id": "9fb30a43-117e-4df9-8a48-6f31bbb99bf9",
   "metadata": {
    "tags": []
   },
   "outputs": [],
   "source": [
    "def query_gpt(query, prompt, model=\"gpt-4-1106-preview\", temperature=0.1):\n",
    "    response = client.chat.completions.create(\n",
    "        model=model,\n",
    "        response_format={ \"type\": \"json_object\" },\n",
    "        messages=[\n",
    "            {\"role\": \"system\", \"content\": prompt},\n",
    "            {\"role\": \"user\", \"content\": question}\n",
    "        ],\n",
    "        temperature=temperature\n",
    "    )\n",
    "    return response"
   ]
  },
  {
   "cell_type": "code",
   "execution_count": 27,
   "id": "634a17b3-1760-4fb6-a101-a8e04f5264dc",
   "metadata": {
    "tags": []
   },
   "outputs": [],
   "source": [
    "#'gpt-4-1106-preview'"
   ]
  },
  {
   "cell_type": "code",
   "execution_count": null,
   "id": "18d9cde8-d9a5-485c-8536-61c11079bc3d",
   "metadata": {},
   "outputs": [],
   "source": [
    "我理解你的困扰，这种比较和竞争的心态确实会对你的心理和情绪产生负面影响。以下是我为你提供的一些建议：\n",
    "\n",
    "1. 自我接纳：首先，你需要接受自己的优点和缺点，认识到每个人都有自己的特质和能力，没有必要与他人比较。你的价值并不取决于你的成就，而是取决于你是谁，你的品质和你的行为。\n",
    "\n",
    "2. 重塑思维：试着将他人的成功看作是一种激励，而不是威胁。你可以从他们的经验中学习，而不是感到嫉妒或自卑。记住，他人的成功并不意味着你的失败。\n",
    "\n",
    "3. 设定个人目标：设定和追求自己的目标，而不是与他人竞争。这样，你就可以专注于自己的进步和成长，而不是过于关注他人的表现。\n",
    "\n",
    "4. 学习放松：找到一种可以帮助你放松和减压的方式，比如冥想、瑜伽、阅读或者散步等。这样可以帮助你从比较和竞争的压力中解脱出来，更好地关注自己的感受。\n",
    "\n",
    "5. 寻求专业帮助：如果你发现自己很难摆脱这种心态，可能需要寻求专业的心理咨询师的帮助。他们可以提供更专业的建议和治疗方法，帮助你处理这种问题。\n",
    "\n",
    "记住，每个人都有自己的节奏和路径，你无需将自己与他人比较。你的价值并不取决于你的成就，而是你作为一个人的整体。希望这些建议能对你有所帮助。"
   ]
  },
  {
   "cell_type": "code",
   "execution_count": 33,
   "id": "9026d50a-450c-4c73-acf6-e6770ee8c276",
   "metadata": {
    "tags": []
   },
   "outputs": [
    {
     "ename": "TypeError",
     "evalue": "'NoneType' object is not subscriptable",
     "output_type": "error",
     "traceback": [
      "\u001b[0;31m---------------------------------------------------------------------------\u001b[0m",
      "\u001b[0;31mTypeError\u001b[0m                                 Traceback (most recent call last)",
      "File \u001b[0;32m<timed exec>:3\u001b[0m\n",
      "\u001b[0;31mTypeError\u001b[0m: 'NoneType' object is not subscriptable"
     ]
    }
   ],
   "source": [
    "%%time\n",
    "# 获取并打印回答\n",
    "try:\n",
    "response = query_gpt(question, prompt, model='gpt-4')\n",
    "print(response.choices[0].message.content)"
   ]
  },
  {
   "cell_type": "code",
   "execution_count": null,
   "id": "67b52e39-873a-47f5-b4a4-5dd4129db073",
   "metadata": {},
   "outputs": [],
   "source": [
    "with open('/root/autodl-tmp/dataset/OESD-GG-zh_cn-1/corpus.json') as file, open('/root/autodl-tmp/dataset/OESD-GG-zh_cn-1/api_gen.jsonl', 'w') as outfile::\n",
    "    for line in tqdm(file):\n",
    "        entry=dict()\n",
    "        question=json.loads(line)['User']\n",
    "        try:\n",
    "            response = query_gpt(question, prompt, model='gpt-4-1106-preview')\n",
    "            response = response.choices[0].message.content\n",
    "        entry['User']=question\n",
    "        entry['Assistance']=response\n",
    "        \n",
    "        json.dump(entry, outfile)\n",
    "        outfile.write('\\n')"
   ]
  }
 ],
 "metadata": {
  "kernelspec": {
   "display_name": "Python 3 (ipykernel)",
   "language": "python",
   "name": "python3"
  },
  "language_info": {
   "codemirror_mode": {
    "name": "ipython",
    "version": 3
   },
   "file_extension": ".py",
   "mimetype": "text/x-python",
   "name": "python",
   "nbconvert_exporter": "python",
   "pygments_lexer": "ipython3",
   "version": "3.8.10"
  }
 },
 "nbformat": 4,
 "nbformat_minor": 5
}
