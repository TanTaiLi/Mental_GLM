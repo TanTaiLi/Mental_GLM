{
 "cells": [
  {
   "cell_type": "code",
   "execution_count": 1,
   "id": "30115842-c758-4d38-bc47-15699d80a12d",
   "metadata": {
    "tags": []
   },
   "outputs": [],
   "source": [
    "import json\n",
    "from datasketch import MinHash, MinHashLSH\n",
    "import json\n",
    "from datasketch import MinHash, MinHashLSH\n",
    "from multiprocessing import Pool, cpu_count\n",
    "from tqdm import tqdm\n",
    "\n",
    "# 文件路径\n",
    "input_file_path = '/root/autodl-tmp/dataset/GPT3.5-3270k/3270k-qa.jsonl'\n",
    "output_file_path = '/root/autodl-tmp/dataset/GPT3.5-3270k/3270k-qa-unique.jsonl'"
   ]
  },
  {
   "cell_type": "code",
   "execution_count": 2,
   "id": "950de707-eb1f-43d1-bdc5-3838c973ab0e",
   "metadata": {
    "tags": []
   },
   "outputs": [
    {
     "name": "stderr",
     "output_type": "stream",
     "text": [
      "100%|██████████| 3208736/3208736 [03:16<00:00, 16293.04it/s]\n"
     ]
    },
    {
     "name": "stdout",
     "output_type": "stream",
     "text": [
      "Number of unique items: 1062429\n"
     ]
    }
   ],
   "source": [
    "%%time\n",
    "# 定义一个函数来处理每一行数据\n",
    "def process_line(line):\n",
    "    data = json.loads(line)\n",
    "    try:\n",
    "        text = data['conversation'][0]['User'] + data['conversation'][1]['Assistant']\n",
    "    except:\n",
    "        text = 'None'\n",
    "    m = MinHash(num_perm=128)\n",
    "    for d in text:\n",
    "        m.update(d.encode('utf8'))\n",
    "    return m, data\n",
    "\n",
    "# 读取文件中的所有行\n",
    "with open(input_file_path, 'r') as file:\n",
    "    lines = file.readlines()\n",
    "\n",
    "# 设置进程池\n",
    "pool = Pool(processes=cpu_count())  # 使用所有可用的CPU核心\n",
    "\n",
    "# 使用进程池映射处理函数到每一行数据\n",
    "minhash_data_pairs = pool.map(process_line, lines)\n",
    "\n",
    "# 关闭进程池并等待所有进程完成\n",
    "pool.close()\n",
    "pool.join()\n",
    "\n",
    "# 在主进程中构建MinHashLSH并插入MinHash对象\n",
    "lsh = MinHashLSH(threshold=0.6, num_perm=128)\n",
    "unique_data = []\n",
    "for m, data in tqdm(minhash_data_pairs):\n",
    "    # 检查是否有相似的MinHash已经存在\n",
    "    if lsh.query(m):\n",
    "        continue  # 如果存在，跳过这个数据\n",
    "    # 如果不存在，插入MinHash并保存数据\n",
    "    lsh.insert(str(data), m)\n",
    "    unique_data.append(data)\n",
    "\n",
    "# 输出去重结果数量\n",
    "print(f\"Number of unique items: {len(unique_data)}\")\n",
    "\n",
    "# 如果需要，可以将去重结果写入新的JSONL文件\n",
    "with open(output_file_path, 'w') as outfile:\n",
    "    for item in unique_data:\n",
    "        outfile.write(json.dumps(item, ensure_ascii=False) + '\\n')"
   ]
  },
  {
   "cell_type": "code",
   "execution_count": 3,
   "id": "8b27871a-3ed7-4458-99d8-0e291d5b10ef",
   "metadata": {
    "tags": []
   },
   "outputs": [
    {
     "data": {
      "text/plain": [
       "1062429"
      ]
     },
     "execution_count": 3,
     "metadata": {},
     "output_type": "execute_result"
    }
   ],
   "source": [
    "count=0\n",
    "with open('/root/autodl-tmp/dataset/GPT3.5-3270k/3270k-qa-unique.jsonl','r') as file:\n",
    "    for line in file:\n",
    "        count+=1\n",
    "count"
   ]
  },
  {
   "cell_type": "code",
   "execution_count": 4,
   "id": "91546d61-48b8-44d9-9380-dc41d13a97d0",
   "metadata": {
    "tags": []
   },
   "outputs": [
    {
     "data": {
      "text/plain": [
       "3208736"
      ]
     },
     "execution_count": 4,
     "metadata": {},
     "output_type": "execute_result"
    }
   ],
   "source": [
    "count=0\n",
    "with open('/root/autodl-tmp/dataset/GPT3.5-3270k/3270k-qa.jsonl','r') as file:\n",
    "    for line in file:\n",
    "        count+=1\n",
    "count"
   ]
  }
 ],
 "metadata": {
  "kernelspec": {
   "display_name": "Python 3 (ipykernel)",
   "language": "python",
   "name": "python3"
  },
  "language_info": {
   "codemirror_mode": {
    "name": "ipython",
    "version": 3
   },
   "file_extension": ".py",
   "mimetype": "text/x-python",
   "name": "python",
   "nbconvert_exporter": "python",
   "pygments_lexer": "ipython3",
   "version": "3.8.10"
  }
 },
 "nbformat": 4,
 "nbformat_minor": 5
}
