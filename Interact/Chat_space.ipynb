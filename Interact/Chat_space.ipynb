{
 "cells": [
  {
   "cell_type": "code",
   "execution_count": 1,
   "id": "feeaa2f6-d651-41e1-8127-5eb96b1c016f",
   "metadata": {
    "tags": []
   },
   "outputs": [],
   "source": [
    "import sys\n",
    "import torch\n",
    "from tqdm import tqdm\n",
    "from transformers import AutoTokenizer, AutoConfig, AutoModelForCausalLM, AutoModel"
   ]
  },
  {
   "cell_type": "code",
   "execution_count": 2,
   "id": "81ed41b7-5a3d-4b57-9bce-f9903a6e5ec7",
   "metadata": {
    "tags": []
   },
   "outputs": [],
   "source": [
    "sys.path.append('/root/tuning_space/Components/')\n",
    "import interact\n",
    "from Static import prompt_dict, st, si"
   ]
  },
  {
   "cell_type": "code",
   "execution_count": 3,
   "id": "2aae582e-3710-47a4-96a2-6af840ff84cd",
   "metadata": {
    "tags": []
   },
   "outputs": [],
   "source": [
    "model_path = '/root/autodl-fs/weights/chatglm3-6b'"
   ]
  },
  {
   "cell_type": "code",
   "execution_count": 4,
   "id": "f6de31ce-1813-4b94-bf48-23ccf030c6da",
   "metadata": {
    "tags": []
   },
   "outputs": [
    {
     "data": {
      "application/json": {
       "ascii": false,
       "bar_format": null,
       "colour": null,
       "elapsed": 0.009093284606933594,
       "initial": 0,
       "n": 0,
       "ncols": null,
       "nrows": null,
       "postfix": null,
       "prefix": "Loading checkpoint shards",
       "rate": null,
       "total": 7,
       "unit": "it",
       "unit_divisor": 1000,
       "unit_scale": false
      },
      "application/vnd.jupyter.widget-view+json": {
       "model_id": "bc5400475cc34e6bb112ab560f6231f2",
       "version_major": 2,
       "version_minor": 0
      },
      "text/plain": [
       "Loading checkpoint shards:   0%|          | 0/7 [00:00<?, ?it/s]"
      ]
     },
     "metadata": {},
     "output_type": "display_data"
    }
   ],
   "source": [
    "tokenizer = AutoTokenizer.from_pretrained(model_path, trust_remote_code=True)\n",
    "model = AutoModel.from_pretrained(model_path, trust_remote_code=True).half().cuda()"
   ]
  },
  {
   "cell_type": "code",
   "execution_count": 5,
   "id": "e0420f5a-5c30-4ab4-8f3c-4a9b81728ec9",
   "metadata": {
    "tags": []
   },
   "outputs": [
    {
     "data": {
      "text/plain": [
       "ChatGLMForConditionalGeneration(\n",
       "  (transformer): ChatGLMModel(\n",
       "    (embedding): Embedding(\n",
       "      (word_embeddings): Embedding(65024, 4096)\n",
       "    )\n",
       "    (rotary_pos_emb): RotaryEmbedding()\n",
       "    (encoder): GLMTransformer(\n",
       "      (layers): ModuleList(\n",
       "        (0-27): 28 x GLMBlock(\n",
       "          (input_layernorm): RMSNorm()\n",
       "          (self_attention): SelfAttention(\n",
       "            (query_key_value): Linear(in_features=4096, out_features=4608, bias=True)\n",
       "            (core_attention): CoreAttention(\n",
       "              (attention_dropout): Dropout(p=0.0, inplace=False)\n",
       "            )\n",
       "            (dense): Linear(in_features=4096, out_features=4096, bias=False)\n",
       "          )\n",
       "          (post_attention_layernorm): RMSNorm()\n",
       "          (mlp): MLP(\n",
       "            (dense_h_to_4h): Linear(in_features=4096, out_features=27392, bias=False)\n",
       "            (dense_4h_to_h): Linear(in_features=13696, out_features=4096, bias=False)\n",
       "          )\n",
       "        )\n",
       "      )\n",
       "      (final_layernorm): RMSNorm()\n",
       "    )\n",
       "    (output_layer): Linear(in_features=4096, out_features=65024, bias=False)\n",
       "  )\n",
       ")"
      ]
     },
     "execution_count": 5,
     "metadata": {},
     "output_type": "execute_result"
    }
   ],
   "source": [
    "model"
   ]
  },
  {
   "cell_type": "code",
   "execution_count": 6,
   "id": "695e3618-3f98-4b0e-9389-1e0f18d61d72",
   "metadata": {},
   "outputs": [],
   "source": [
    "def chat():\n",
    "    input_ids = torch.cat([st['[gMASK]'],st['sop'],st['<|system|>'],st['\\n']],dim=1).cuda()\n",
    "    input_ids = torch.cat([input_ids, tokenizer.encode(prompt_dict['system_information'], return_tensors='pt').cuda()[:,2:], st['\\n'], st['<|user|>']], dim=1)\n",
    "    while True:\n",
    "        input_ids = torch.cat([input_ids, tokenizer.encode(input('User:'), return_tensors='pt').cuda()[:,2:], st['\\n'], st['<|assistant|>']], dim=1)\n",
    "        input_ids = interact.inference_streamed(input_ids, model, tokenizer, in_nature_language=False, greedy=True)"
   ]
  },
  {
   "cell_type": "code",
   "execution_count": null,
   "id": "85780769-3bf3-446b-9155-1a97697d96d3",
   "metadata": {
    "tags": []
   },
   "outputs": [
    {
     "name": "stdin",
     "output_type": "stream",
     "text": [
      "User: 你好\n"
     ]
    },
    {
     "name": "stdout",
     "output_type": "stream",
     "text": [
      "\n",
      "Assistant: \n",
      "\n",
      "你好！很高兴见到你。请随时告诉我，你今天有什么想要谈论的话题吗？\n",
      "\n"
     ]
    },
    {
     "name": "stdin",
     "output_type": "stream",
     "text": [
      "User: 我最近感到有些乏力\n"
     ]
    },
    {
     "name": "stdout",
     "output_type": "stream",
     "text": [
      "\n",
      "Assistant: \n",
      "\n",
      "感谢你向我寻求帮助。感到乏力可能是由多种原因引起的，例如压力、焦虑、疲劳、睡眠不足等。首先，我们可以尝试探讨一下你最近的生活和工作状况，看看是否有任何可以改进的地方。同时，我们也可以一起想想办法来应对你目前的感觉。\n",
      "\n",
      "首先，我们可以尝试确定你的乏力感觉是否与压力有关。当我们感到压力过大时，常常会出现身心疲惫的感觉。你可以尝试回忆一下最近有没有遇到什么特别的事情，或者有什么事情让你感到压力很大。是工作、学习还是其他方面的问题？\n",
      "\n",
      "其次，我们可以考虑一些简单的自我照顾技巧，帮助你缓解疲劳和压力。例如，进行一些身体锻炼，如散步、瑜伽或深呼吸等，可以帮助你放松身心。此外，保持良好的睡眠习惯也非常重要，确保你有足够的睡眠时间并且睡眠质量良好。\n",
      "\n",
      "最后，如果你感到自己无法应对这种情况，或者你的乏力感觉已经持续了很长时间，我建议你寻求专业的医疗帮助。心理医生或心理治疗师可以帮助你确定导致你感觉的原因，并提供适当的治疗方案。\n",
      "\n",
      "总之，让我们先从了解你的情况开始，然后一起想想办法来帮助你。如果你愿意，你可以告诉我更多关于你的情况，我会尽力为你提供帮助。\n",
      "\n"
     ]
    },
    {
     "name": "stdin",
     "output_type": "stream",
     "text": [
      "User: 我不愿起床，不愿前往图书馆进行一天的学习\n"
     ]
    },
    {
     "name": "stdout",
     "output_type": "stream",
     "text": [
      "\n",
      "Assistant: \n",
      "\n",
      "感谢你向我分享你的感受。你的情况听起来很困难，我理解你的情绪可能很低落。当面对压力和困难时，有时候我们可能会感到无力，甚至无法应对。\n",
      "\n",
      "首先，我想让你知道你不是一个人。许多人都会感到类似的挫败和沮丧，这是正常的。现在，让我们来谈谈你提到的两个问题：不愿起床和不愿去图书馆。\n",
      "\n",
      "对于这些问题，我们可以尝试一些策略来帮助你重新找回动力和积极性。例如：\n",
      "\n",
      "1.制定一个可行的计划：你可以制定一个每天的具体计划，包括一些小目标和小任务。这样可以帮助你保持专注和积极性，同时也可以让你感到accomplishment。\n",
      "2.创造一个积极的环境：尝试让你的房间或学习空间更加舒适和有吸引力。例如，你可以添加一些鼓舞人心的照片或海报，或者放一些让你感到愉悦的音乐。\n",
      "3.找到你的动力：想一想让你感到兴奋和有动力的原因。这可能是你的兴趣、爱好或者目标。利用这些动力可以帮助你重新找回学习的热情和动力。\n",
      "4.寻求支持：如果你感到很难应对，不妨寻求朋友、家人或专业人士的帮助。他们可以提供一些支持和鼓励，帮助你度过这个困难时期。\n",
      "\n",
      "最后，如果你感到自己无法应对这种情况，或者你的情况已经持续了很长时间，我建议你寻求专业的医疗帮助。心理医生或心理治疗师可以帮助你确定导致你感觉的原因，并提供适当的治疗方案。\n",
      "\n",
      "总之，我希望这些建议能够帮助你重新找回动力和积极性，让你感到更加自信和积极。如果你需要更多的帮助，请随时告诉我。\n",
      "\n"
     ]
    }
   ],
   "source": [
    "chat()"
   ]
  }
 ],
 "metadata": {
  "kernelspec": {
   "display_name": "Python 3 (ipykernel)",
   "language": "python",
   "name": "python3"
  },
  "language_info": {
   "codemirror_mode": {
    "name": "ipython",
    "version": 3
   },
   "file_extension": ".py",
   "mimetype": "text/x-python",
   "name": "python",
   "nbconvert_exporter": "python",
   "pygments_lexer": "ipython3",
   "version": "3.8.10"
  }
 },
 "nbformat": 4,
 "nbformat_minor": 5
}
