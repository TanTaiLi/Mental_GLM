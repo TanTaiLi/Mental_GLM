{
 "cells": [
  {
   "cell_type": "code",
   "execution_count": 18,
   "id": "0e32351a-0730-4ab2-9a10-f2cd0d1d0a25",
   "metadata": {
    "tags": []
   },
   "outputs": [],
   "source": [
    "import json\n",
    "\n",
    "config = {\n",
    "    \"train_batch_size\": 4,\n",
    "    \"train_micro_batch_size_per_gpu\": 4,\n",
    "    \"steps_per_print\": 2000,\n",
    "    \"optimizer\": {\n",
    "        \"type\": \"AdamW\",\n",
    "        \"params\": {\n",
    "            \"lr\": 0.001\n",
    "        }\n",
    "    },\n",
    "    \"scheduler\": {\n",
    "        \"type\": \"WarmupLR\",\n",
    "        \"params\": {\n",
    "            \"warmup_min_lr\": 0,\n",
    "            \"warmup_max_lr\": 0.001,\n",
    "            \"warmup_num_steps\": 1000\n",
    "        }\n",
    "    },\n",
    "    \"gradient_clipping\": 1.0,\n",
    "    \"fp16\": {\n",
    "        \"enabled\": True\n",
    "    },\n",
    "    \"zero_optimization\": {\n",
    "        \"stage\": 2,\n",
    "        \"allgather_partitions\": True,\n",
    "        \"allgather_bucket_size\": 2e8,\n",
    "        \"overlap_comm\": True,\n",
    "        \"reduce_scatter\": True,\n",
    "        \"reduce_bucket_size\": 2e8,\n",
    "        \"contiguous_gradients\": True,\n",
    "        \"cpu_offload\": True\n",
    "    }\n",
    "}\n",
    "\n",
    "config = {\n",
    "    \"train_batch_size\": 4,\n",
    "    \"train_micro_batch_size_per_gpu\": 4,\n",
    "    \"steps_per_print\": 2000,\n",
    "    \"optimizer\": {\n",
    "        \"type\": \"AdamW\",\n",
    "        \"params\": {\n",
    "            \"lr\": 0.001\n",
    "        }\n",
    "    },\n",
    "    \"scheduler\": {\n",
    "        \"type\": \"WarmupLR\",\n",
    "        \"params\": {\n",
    "            \"warmup_min_lr\": 0,\n",
    "            \"warmup_max_lr\": 0.001,\n",
    "            \"warmup_num_steps\": 1000\n",
    "        }\n",
    "    },\n",
    "    \"gradient_clipping\": 1.0,\n",
    "    \"fp16\": {\n",
    "        \"enabled\": True\n",
    "    },\n",
    "    \n",
    "    \"zero_optimization\": {\n",
    "            \"stage\": 3,\n",
    "            \"offload_optimizer\": {\n",
    "                \"device\": \"cpu\",\n",
    "                \"pin_memory\": True\n",
    "            },\n",
    "            \"offload_param\": {\n",
    "                \"device\": \"cpu\",\n",
    "                \"pin_memory\": True\n",
    "            },\n",
    "            \"overlap_comm\": True,\n",
    "            \"contiguous_gradients\": True,\n",
    "            \"sub_group_size\": 1e9,\n",
    "            \"reduce_bucket_size\": 1e6,\n",
    "            \"stage3_prefetch_bucket_size\": 4e6,\n",
    "            \"stage3_param_persistence_threshold\": 1e4,\n",
    "            \"stage3_max_live_parameters\": 1e9,\n",
    "            \"stage3_max_reuse_distance\": 1e9,\n",
    "            \"stage3_gather_16bit_weights_on_model_save\": True\n",
    "        },\n",
    "\n",
    "}\n",
    "\n",
    "config = {\n",
    "    \"steps_per_print\": 20, #打印日志\n",
    "    \"train_batch_size\": 16, #似乎必须提供\n",
    "    #定义梯度下降优化器\n",
    "    \"optimizer\": {\n",
    "        \"type\": \"AdamW\",\n",
    "        \"params\": {\n",
    "            \"lr\": 0.001\n",
    "        }\n",
    "    },\n",
    "    \n",
    "    #定义学习率优化器 \n",
    "    \"scheduler\": {\n",
    "        \"type\": \"WarmupLR\",\n",
    "        \"params\": {\n",
    "            \"warmup_min_lr\": 0,\n",
    "            \"warmup_max_lr\": 0.001,\n",
    "            \"warmup_num_steps\": 1000\n",
    "        }\n",
    "    },\n",
    "    \n",
    "    #\n",
    "    \"gradient_clipping\": 1.0,\n",
    "    \n",
    "    #定义混合精度\n",
    "    #\"fp16\": {\n",
    "    #    \"enabled\": True\n",
    "    #},\n",
    "    \n",
    "    # 先进的GPU存在bf结构，其特点是不需要专门进行缩放\n",
    "    \"bf16\": {\n",
    "       \"enabled\": True\n",
    "     },\n",
    "    \n",
    "    \"zero_optimization\": {\n",
    "        \"stage\": 2,\n",
    "        \"allgather_partitions\": True,\n",
    "        \"allgather_bucket_size\": 2e8,\n",
    "        \"overlap_comm\": True,\n",
    "        \"reduce_scatter\": True,\n",
    "        \"reduce_bucket_size\": 2e8,\n",
    "        \"contiguous_gradients\": True,\n",
    "        \"cpu_offload\": True\n",
    "    }\n",
    "}\n",
    "\n",
    "# stage 2\n",
    "config = {\n",
    "    \"train_batch_size\": 12,\n",
    "    \"train_micro_batch_size_per_gpu\": 4,\n",
    "    \"steps_per_print\": 20,\n",
    "    \"optimizer\": {\n",
    "        \"type\": \"AdamW\",\n",
    "        \"params\": {\n",
    "            \"lr\": 0.001\n",
    "        }\n",
    "    },\n",
    "    \"scheduler\": {\n",
    "        \"type\": \"WarmupLR\",\n",
    "        \"params\": {\n",
    "            \"warmup_min_lr\": 0,\n",
    "            \"warmup_max_lr\": 0.001,\n",
    "            \"warmup_num_steps\": 1000\n",
    "        }\n",
    "    },\n",
    "    \"gradient_clipping\": 1.0,\n",
    "    \"fp16\": {\n",
    "        \"enabled\": True\n",
    "    },\n",
    "    \"zero_optimization\": {\n",
    "        \"stage\": 2,\n",
    "        \"allgather_partitions\": True,\n",
    "        \"allgather_bucket_size\": 2e8,\n",
    "        \"overlap_comm\": True,\n",
    "        \"reduce_scatter\": True,\n",
    "        \"reduce_bucket_size\": 2e8,\n",
    "        \"contiguous_gradients\": True,\n",
    "        \"cpu_offload\": True\n",
    "    }\n",
    "}\n",
    "\n",
    "# Stage3 最省资源的一集\n",
    "config = {\n",
    "    \"train_batch_size\": 12,\n",
    "    \"train_micro_batch_size_per_gpu\": 4,\n",
    "    \"steps_per_print\": 20,\n",
    "    #\"gradient_accumulation_steps\": 1,\n",
    "    \"optimizer\": {\n",
    "        \"type\": \"AdamW\",\n",
    "        \"params\": {\n",
    "            \"lr\": 0.001\n",
    "        }\n",
    "    },\n",
    "    \"scheduler\": {\n",
    "        \"type\": \"WarmupLR\",\n",
    "        \"params\": {\n",
    "            \"warmup_min_lr\": 0,\n",
    "            \"warmup_max_lr\": 0.001,\n",
    "            \"warmup_num_steps\": 1000\n",
    "        }\n",
    "    },\n",
    "    \"gradient_clipping\": 1.0,\n",
    "    \"fp16\": {\n",
    "        \"enabled\": True\n",
    "    },\n",
    "    \"zero_optimization\": {\n",
    "        \"stage\": 3,\n",
    "        \"offload_param\": {\n",
    "            \"device\": \"cpu\",\n",
    "            \"pin_memory\": True\n",
    "        },\n",
    "        \"offload_optimizer\": {\n",
    "            \"device\": \"cpu\",\n",
    "            \"pin_memory\": True\n",
    "        },\n",
    "        \"overlap_comm\": True,\n",
    "        \"contiguous_gradients\": True,\n",
    "        \"sub_group_size\": 1e9,\n",
    "        \"reduce_bucket_size\": \"auto\",\n",
    "        \"stage3_prefetch_bucket_size\": \"auto\",\n",
    "        \"stage3_param_persistence_threshold\": \"auto\",\n",
    "        \"stage3_max_live_parameters\": 1e9,\n",
    "        \"stage3_max_reuse_distance\": 1e9,\n",
    "        \"stage3_gather_16bit_weights_on_model_save\": True\n",
    "    },\n",
    "}\n",
    "\n",
    "# stage 1\n",
    "config = {\n",
    "    \"train_batch_size\": 12,\n",
    "    \"train_micro_batch_size_per_gpu\": 4,\n",
    "    \"steps_per_print\": 2000,\n",
    "    \"optimizer\": {\n",
    "        \"type\": \"AdamW\",\n",
    "        \"params\": {\n",
    "            \"lr\": 0.001\n",
    "        }\n",
    "    },\n",
    "    \n",
    "    \"scheduler\": {\n",
    "        \"type\": \"WarmupLR\",\n",
    "        \"params\": {\n",
    "            \"warmup_min_lr\": 0,\n",
    "            \"warmup_max_lr\": 0.001,\n",
    "            \"warmup_num_steps\": 1000\n",
    "        }\n",
    "    },\n",
    "    \n",
    "    \"gradient_clipping\": 1.0,\n",
    "    \n",
    "    \"fp16\": {\n",
    "        \"enabled\": True\n",
    "    },\n",
    "    \n",
    "    \"zero_optimization\": {\n",
    "            \"stage\": 1\n",
    "        },\n",
    "}\n",
    "\n",
    "with open('ds_config.json', 'w') as f:\n",
    "    json.dump(config, f, indent=4)"
   ]
  },
  {
   "cell_type": "code",
   "execution_count": null,
   "id": "0f8b06f6-fd5e-48db-8612-4ec31bc05e78",
   "metadata": {},
   "outputs": [],
   "source": [
    "deepspeed --num_gpus=3 Deepspeed_Attemp.py --deepspeed --deepspeed_config ds_config.json"
   ]
  },
  {
   "cell_type": "code",
   "execution_count": 2,
   "id": "ec79b510-9149-48e6-a3cb-45ae35f7a2fe",
   "metadata": {
    "tags": []
   },
   "outputs": [
    {
     "name": "stdout",
     "output_type": "stream",
     "text": [
      " \t\u001b[4mGPU0\tGPU1\t\u001b[0m\n",
      " GPU0\tX\tNS\t\n",
      " GPU1\tNS\tX\t\n",
      "\n",
      "Legend:\n",
      "\n",
      "  X    = Self\n",
      "  OK   = Status Ok\n",
      "  CNS  = Chipset not supported\n",
      "  GNS  = GPU not supported\n",
      "  TNS  = Topology not supported\n",
      "  NS   = Not supported\n",
      "  U    = Unknown\n"
     ]
    }
   ],
   "source": [
    "!nvidia-smi topo -p2p n"
   ]
  },
  {
   "cell_type": "code",
   "execution_count": 5,
   "id": "2763c32b-3430-492f-ae41-214aef193df8",
   "metadata": {
    "tags": []
   },
   "outputs": [
    {
     "data": {
      "text/plain": [
       "210"
      ]
     },
     "execution_count": 5,
     "metadata": {},
     "output_type": "execute_result"
    }
   ],
   "source": [
    "35*6"
   ]
  },
  {
   "cell_type": "code",
   "execution_count": 6,
   "id": "7538189d-dc76-432f-882c-9c5b91ecab34",
   "metadata": {
    "tags": []
   },
   "outputs": [
    {
     "data": {
      "text/plain": [
       "2.830188679245283"
      ]
     },
     "execution_count": 6,
     "metadata": {},
     "output_type": "execute_result"
    }
   ],
   "source": [
    "6/2.12"
   ]
  },
  {
   "cell_type": "code",
   "execution_count": 7,
   "id": "9f52e0d5-81dd-41e9-910a-f425193807b2",
   "metadata": {
    "tags": []
   },
   "outputs": [
    {
     "data": {
      "text/plain": [
       "3.0769230769230766"
      ]
     },
     "execution_count": 7,
     "metadata": {},
     "output_type": "execute_result"
    }
   ],
   "source": [
    "4/1.3"
   ]
  },
  {
   "cell_type": "code",
   "execution_count": 8,
   "id": "57f27878-fb05-411e-ad34-0ad7df8c6eda",
   "metadata": {
    "tags": []
   },
   "outputs": [
    {
     "name": "stdout",
     "output_type": "stream",
     "text": [
      "[2024-03-10 16:22:49,621] [INFO] [real_accelerator.py:191:get_accelerator] Setting ds_accelerator to cuda (auto detect)\n"
     ]
    }
   ],
   "source": [
    "import pickle\n",
    "import torch\n",
    "import deepspeed\n",
    "from torch.utils.data import Dataset, DataLoader\n",
    "from transformers import GPT2Tokenizer, get_linear_schedule_with_warmup\n",
    "from torch.nn import CrossEntropyLoss\n",
    "from torch.utils.data.distributed import DistributedSampler\n",
    "from deepspeed.runtime.zero.stage3 import estimate_zero3_model_states_mem_needs_all_live\n",
    "\n",
    "from transformers import AutoTokenizer, AutoConfig, AutoModelForCausalLM, AutoModel\n",
    "from peft import LoraConfig, get_peft_model, PeftModel, PeftConfig\n",
    "\n",
    "import sys\n",
    "import json\n",
    "import pandas as pd\n",
    "from tqdm import tqdm\n",
    "\n",
    "sys.path.append('/root/tuning_space/Components/')\n",
    "import interact\n",
    "import model_tools\n",
    "from Static import prompt_dict, st, si"
   ]
  },
  {
   "cell_type": "code",
   "execution_count": 9,
   "id": "6917c892-f162-42c7-99d1-4c0639c927b2",
   "metadata": {
    "tags": []
   },
   "outputs": [],
   "source": [
    "def coll_fn(batch:list):\n",
    "    input_labels = []\n",
    "    labels = []\n",
    "    attention_mask = []\n",
    "    for sample in batch:\n",
    "        # 实际上词表长度只有65024，所以int32就可以了 # attention_mask用bool就行 (我收回我的画，完全是玄学)\n",
    "        input_labels.append(torch.tensor(sample['input_ids'], dtype=torch.long))\n",
    "        labels.append(torch.tensor(sample['labels'], dtype=torch.long))\n",
    "        attention_mask.append(torch.tensor(sample['attention_mask'], dtype=torch.float64)) #, dtype=torch.bool\n",
    "    batch = {'input_ids':input_labels, 'labels':labels, 'attention_mask': attention_mask}\n",
    "    batch = {name:torch.stack(item).cuda() for name,item in batch.items()} #对于一个元素不为基本元素的list，需要使用stack方法\n",
    "    return batch"
   ]
  },
  {
   "cell_type": "code",
   "execution_count": 10,
   "id": "d59affa2-f238-40c1-8fd4-7fa3cf53f98a",
   "metadata": {
    "tags": []
   },
   "outputs": [],
   "source": [
    "with open('instruction_loader.pkl', 'rb') as f:\n",
    "    instruction_loader = pickle.load(f)"
   ]
  },
  {
   "cell_type": "code",
   "execution_count": 12,
   "id": "4077c09b-74c7-4a2e-9582-a9cca445e18a",
   "metadata": {
    "tags": []
   },
   "outputs": [
    {
     "name": "stdout",
     "output_type": "stream",
     "text": [
      "tensor([[  307, 30953, 30924,  1709,  6555, 12092,   388,  1788, 30930,  1266,\n",
      "           457,   307,   480, 30987, 64790, 64792,  1043,   383,   853,  1257,\n",
      "           379,   457,  5550,   289,   833,  2602,   475,  4039, 30932,   866,\n",
      "           362,  4039, 24572, 30932, 19521,  5717, 30932,   293, 13106,   612,\n",
      "         10419,  2326,   343,   740,   330, 13805,   475,  4039, 30930,  2641,\n",
      "         30953, 30917,   636,  1811,   289,   990,   260,  3497,   343,  1962,\n",
      "           332,   344, 30930, 64793,     0,     0,     0,     0,     0,     0,\n",
      "             0,     0,     0,     0,     0,     0,     0,     0,     0,     0,\n",
      "             0,     0,     0,     0,     0,     0,     0,     0,     0,     0,\n",
      "             0,     0,     0,     0,     0,     0,     0,     0,     0,     0,\n",
      "             0,     0,     0,     0,     0,     0,     0,     0,     0,     0,\n",
      "             0,     0,     0,     0,     0,     0,     0,     0,     0,     0,\n",
      "             0,     0,     0,     0,     0,     0,     0,     0,     0,     0,\n",
      "             0,     0,     0,     0,     0,     0,     0,     0,     0,     0,\n",
      "             0,     0,     0,     0,     0,     0,     0,     0,     0,     0,\n",
      "             0,     0,     0,     0,     0,     0,     0,     0,     0,     0,\n",
      "             0,     0,     0,     0,     0,     0,     0,     0,     0,     0,\n",
      "             0,     0,     0,     0,     0,     0,     0,     0,     0,     0,\n",
      "             0,     0,     0,     0,     0,     0,     0,     0,     0,     0,\n",
      "             0,     0]], device='cuda:0')\n"
     ]
    }
   ],
   "source": [
    "for item in instruction_loader:\n",
    "    print(item['input_ids'])\n",
    "    break"
   ]
  },
  {
   "cell_type": "code",
   "execution_count": null,
   "id": "8be47149-7a83-4c26-8cea-23bbdee45734",
   "metadata": {},
   "outputs": [],
   "source": []
  }
 ],
 "metadata": {
  "kernelspec": {
   "display_name": "Python 3 (ipykernel)",
   "language": "python",
   "name": "python3"
  },
  "language_info": {
   "codemirror_mode": {
    "name": "ipython",
    "version": 3
   },
   "file_extension": ".py",
   "mimetype": "text/x-python",
   "name": "python",
   "nbconvert_exporter": "python",
   "pygments_lexer": "ipython3",
   "version": "3.8.10"
  }
 },
 "nbformat": 4,
 "nbformat_minor": 5
}
