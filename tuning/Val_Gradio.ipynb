{
 "cells": [
  {
   "cell_type": "code",
   "execution_count": 1,
   "id": "b99bc083-8a33-4d40-8056-5fd8be903b19",
   "metadata": {},
   "outputs": [
    {
     "name": "stdout",
     "output_type": "stream",
     "text": [
      "设置成功\n"
     ]
    }
   ],
   "source": [
    "!source /etc/network_turbo"
   ]
  },
  {
   "cell_type": "code",
   "execution_count": 2,
   "id": "6eb7990e-df2b-45ac-a621-f9767913adfc",
   "metadata": {},
   "outputs": [],
   "source": [
    "#!unset http_proxy && unset https_proxy"
   ]
  },
  {
   "cell_type": "code",
   "execution_count": 3,
   "id": "f71ac6da-4357-4554-b3f8-57bffb23340b",
   "metadata": {
    "tags": []
   },
   "outputs": [
    {
     "name": "stdout",
     "output_type": "stream",
     "text": [
      "flagged\t\t\t     glm3-3-dataset-Rank64_32000\n",
      "glm3-3-dataset-Rank64\t     glm3-3-dataset-Rank64_33000\n",
      "glm3-3-dataset-Rank64_1000   glm3-3-dataset-Rank64_34000\n",
      "glm3-3-dataset-Rank64_10000  glm3-3-dataset-Rank64_35000\n",
      "glm3-3-dataset-Rank64_11000  glm3-3-dataset-Rank64_36000\n",
      "glm3-3-dataset-Rank64_12000  glm3-3-dataset-Rank64_37000\n",
      "glm3-3-dataset-Rank64_13000  glm3-3-dataset-Rank64_38000\n",
      "glm3-3-dataset-Rank64_14000  glm3-3-dataset-Rank64_39000\n",
      "glm3-3-dataset-Rank64_15000  glm3-3-dataset-Rank64_4000\n",
      "glm3-3-dataset-Rank64_16000  glm3-3-dataset-Rank64_40000\n",
      "glm3-3-dataset-Rank64_17000  glm3-3-dataset-Rank64_41000\n",
      "glm3-3-dataset-Rank64_18000  glm3-3-dataset-Rank64_42000\n",
      "glm3-3-dataset-Rank64_19000  glm3-3-dataset-Rank64_43000\n",
      "glm3-3-dataset-Rank64_2000   glm3-3-dataset-Rank64_44000\n",
      "glm3-3-dataset-Rank64_20000  glm3-3-dataset-Rank64_45000\n",
      "glm3-3-dataset-Rank64_21000  glm3-3-dataset-Rank64_46000\n",
      "glm3-3-dataset-Rank64_22000  glm3-3-dataset-Rank64_47000\n",
      "glm3-3-dataset-Rank64_23000  glm3-3-dataset-Rank64_48000\n",
      "glm3-3-dataset-Rank64_24000  glm3-3-dataset-Rank64_49000\n",
      "glm3-3-dataset-Rank64_25000  glm3-3-dataset-Rank64_5000\n",
      "glm3-3-dataset-Rank64_26000  glm3-3-dataset-Rank64_50000\n",
      "glm3-3-dataset-Rank64_27000  glm3-3-dataset-Rank64_51000\n",
      "glm3-3-dataset-Rank64_28000  glm3-3-dataset-Rank64_6000\n",
      "glm3-3-dataset-Rank64_29000  glm3-3-dataset-Rank64_7000\n",
      "glm3-3-dataset-Rank64_3000   glm3-3-dataset-Rank64_8000\n",
      "glm3-3-dataset-Rank64_30000  glm3-3-dataset-Rank64_9000\n",
      "glm3-3-dataset-Rank64_31000  previous\n"
     ]
    }
   ],
   "source": [
    "!ls /root/autodl-tmp/checkpoints/"
   ]
  },
  {
   "cell_type": "code",
   "execution_count": 4,
   "id": "b4b8c27e-fd8b-4fad-805e-bf64b577c1a8",
   "metadata": {
    "tags": []
   },
   "outputs": [],
   "source": [
    "class CFG:\n",
    "    model_path = '/root/autodl-tmp/weights/chatglm3-6b'\n",
    "    data_path = '/root/autodl-tmp/dataset/psychology-dataset/data/train.jsonl'\n",
    "    output_dir = '/root/autodl-tmp/checkpoints/glm3-3-dataset-Rank64_15000'\n",
    "    #output_dir = '/root/autodl-tmp/checkpoints/glm3-single_query_turbo3'\n",
    "    #output_dir = '/root/autodl-tmp/checkpoints/glm3-full_query_turbo3'\n",
    "    \n",
    "    num_train_epochs = 5\n",
    "    batch_size = 8\n",
    "    max_tokens = 192\n",
    "    max_query = 64\n",
    "    lr = 1e-5\n",
    "    warm_up_steps = 200"
   ]
  },
  {
   "cell_type": "code",
   "execution_count": 5,
   "id": "000f3b7f-0fca-41da-91c1-a42cea3f3cb2",
   "metadata": {
    "tags": []
   },
   "outputs": [],
   "source": [
    "import torch\n",
    "from torch.utils.data import Dataset, DataLoader\n",
    "from transformers import GPT2Tokenizer, get_linear_schedule_with_warmup\n",
    "from torch.nn import CrossEntropyLoss\n",
    "\n",
    "from transformers import AutoTokenizer, AutoConfig, AutoModelForCausalLM, AutoModel\n",
    "from peft import LoraConfig, get_peft_model, PeftModel, PeftConfig\n",
    "\n",
    "import sys\n",
    "import json\n",
    "import pandas as pd\n",
    "from tqdm import tqdm"
   ]
  },
  {
   "cell_type": "code",
   "execution_count": 6,
   "id": "2fade488-5b96-4912-aa8e-e161377a0ca5",
   "metadata": {
    "tags": []
   },
   "outputs": [],
   "source": [
    "sys.path.append('/root/tuning_space/Components/')\n",
    "import interact\n",
    "import model_tools\n",
    "from Static import prompt_dict, st, si"
   ]
  },
  {
   "cell_type": "code",
   "execution_count": 7,
   "id": "f3a4aba6-54aa-4e9f-9176-67c536616432",
   "metadata": {
    "tags": []
   },
   "outputs": [],
   "source": [
    "def merge_lora(base_model_path, lora_path):\n",
    "    # 载入基座模型\n",
    "    base_model = AutoModel.from_pretrained(base_model_path, trust_remote_code=True).cuda().half()\n",
    "    # 暂存用以验证权重是否改变\n",
    "    first_weight = base_model.transformer.encoder.layers[0].self_attention.query_key_value.weight\n",
    "    first_weight_old = first_weight.clone()\n",
    "    \n",
    "    # 载入lora结构的模型\n",
    "    lora_model = PeftModel.from_pretrained(base_model, lora_path)\n",
    "    \n",
    "    # 合并lora结构\n",
    "    lora_model = lora_model.merge_and_unload()\n",
    "    lora_model.train(False)\n",
    "    \n",
    "    # 验证结构\n",
    "    assert not torch.allclose(first_weight_old, first_weight), 'Weight Should Change after Lora Merge'\n",
    "    \n",
    "    # 给模型改名\n",
    "    deloreanized_sd = {\n",
    "        k.replace(\"base_model.model.\", \"\"): v\n",
    "        for k, v in lora_model.state_dict().items()\n",
    "        if \"lora\" not in k\n",
    "    }\n",
    "    \n",
    "    return lora_model"
   ]
  },
  {
   "cell_type": "code",
   "execution_count": 8,
   "id": "d10d86e1-4939-4a3d-b5d1-86399cbc34d9",
   "metadata": {
    "tags": []
   },
   "outputs": [
    {
     "data": {
      "application/json": {
       "ascii": false,
       "bar_format": null,
       "colour": null,
       "elapsed": 0.007004499435424805,
       "initial": 0,
       "n": 0,
       "ncols": null,
       "nrows": null,
       "postfix": null,
       "prefix": "Loading checkpoint shards",
       "rate": null,
       "total": 7,
       "unit": "it",
       "unit_divisor": 1000,
       "unit_scale": false
      },
      "application/vnd.jupyter.widget-view+json": {
       "model_id": "981c2e551a7a481b8d189896fe9df532",
       "version_major": 2,
       "version_minor": 0
      },
      "text/plain": [
       "Loading checkpoint shards:   0%|          | 0/7 [00:00<?, ?it/s]"
      ]
     },
     "metadata": {},
     "output_type": "display_data"
    },
    {
     "name": "stdout",
     "output_type": "stream",
     "text": [
      "CPU times: user 7.72 s, sys: 15.7 s, total: 23.4 s\n",
      "Wall time: 10.3 s\n"
     ]
    }
   ],
   "source": [
    "%%time\n",
    "tokenizer=AutoTokenizer.from_pretrained(CFG.model_path, trust_remote_code=True)\n",
    "model=merge_lora(CFG.model_path, CFG.output_dir)\n",
    "#model = AutoModel.from_pretrained(CFG.model_path, trust_remote_code=True).cuda().half()#float()\n",
    "model = model.eval()"
   ]
  },
  {
   "cell_type": "code",
   "execution_count": 9,
   "id": "b5b644f9-78f0-4590-938b-1a24d0527fe4",
   "metadata": {
    "tags": []
   },
   "outputs": [],
   "source": [
    "#model_tools.chat(model, tokenizer)"
   ]
  },
  {
   "cell_type": "code",
   "execution_count": 10,
   "id": "ce1763d9-75c2-4636-a51a-7e742b94c5ab",
   "metadata": {
    "tags": []
   },
   "outputs": [],
   "source": [
    "import os\n",
    "import platform\n",
    "from transformers import AutoTokenizer, AutoModel\n",
    "\n",
    "os_name = platform.system()\n",
    "clear_command = 'cls' if os_name == 'Windows' else 'clear'\n",
    "stop_stream = False\n",
    "\n",
    "welcome_prompt = \"欢迎使用TanTaili微调模型（基于ChatGLM3），输入内容即可进行对话，clear 清空对话历史，stop 终止程序\"\n",
    "\n",
    "\n",
    "def build_prompt(history):\n",
    "    prompt = welcome_prompt\n",
    "    for query, response in history:\n",
    "        prompt += f\"\\n\\n用户：{query}\"\n",
    "        prompt += f\"\\n\\nTanTaili-6B：{response}\"\n",
    "    return prompt\n",
    "\n",
    "\n",
    "def main():\n",
    "    past_key_values, history = None, []\n",
    "    global stop_stream\n",
    "    print(welcome_prompt)\n",
    "    while True:\n",
    "        query = input(\"\\n用户：\")\n",
    "        if query.strip() == \"stop\":\n",
    "            break\n",
    "        if query.strip() == \"clear\":\n",
    "            past_key_values, history = None, []\n",
    "            os.system(clear_command)\n",
    "            print(welcome_prompt)\n",
    "            continue\n",
    "        print(\"\\nChatGLM：\", end=\"\")\n",
    "        current_length = 0\n",
    "        for response, history, past_key_values in model.stream_chat(tokenizer, query, history=history,\n",
    "                                                                    do_sample=False, \n",
    "                                                                    temperature=0.1,\n",
    "                                                                    top_p=1,\n",
    "                                                                    past_key_values=past_key_values,\n",
    "                                                                    return_past_key_values=True,\n",
    "                                                                    repetition_penalty=1.0,\n",
    "                                                                   ):\n",
    "            if stop_stream:\n",
    "                stop_stream = False\n",
    "                break\n",
    "            else:\n",
    "                try:\n",
    "                    print(response[current_length:], end=\"\", flush=True)\n",
    "                except:\n",
    "                    break\n",
    "                current_length = len(response)\n",
    "        print(\"\")\n",
    "\n",
    "\n",
    "#if __name__ == \"__main__\":\n",
    "    #main()\n",
    "    \n",
    "    \n",
    "def ince(text):\n",
    "    response, history = model.chat(tokenizer, text, history=[])\n",
    "    return response"
   ]
  },
  {
   "cell_type": "code",
   "execution_count": 11,
   "id": "2ce8e554-5f3e-4e42-b3fb-eb608f609b09",
   "metadata": {
    "tags": []
   },
   "outputs": [
    {
     "name": "stdout",
     "output_type": "stream",
     "text": [
      "Running on local URL:  http://127.0.0.1:7860\n",
      "\n",
      "Could not create share link. Please check your internet connection or our status page: https://status.gradio.app.\n"
     ]
    },
    {
     "data": {
      "text/html": [
       "<div><iframe src=\"http://127.0.0.1:7860/\" width=\"100%\" height=\"500\" allow=\"autoplay; camera; microphone; clipboard-read; clipboard-write;\" frameborder=\"0\" allowfullscreen></iframe></div>"
      ],
      "text/plain": [
       "<IPython.core.display.HTML object>"
      ]
     },
     "metadata": {},
     "output_type": "display_data"
    },
    {
     "data": {
      "text/plain": []
     },
     "execution_count": 11,
     "metadata": {},
     "output_type": "execute_result"
    }
   ],
   "source": [
    "import gradio as gr\n",
    "\n",
    "test = gr.Interface(\n",
    "    fn=ince,\n",
    "    inputs=[\"text\"],\n",
    "    outputs=[\"text\"],\n",
    ")\n",
    "\n",
    "test.launch(share=True) #server_port=8080"
   ]
  },
  {
   "cell_type": "code",
   "execution_count": null,
   "id": "195f7973-cdb4-401c-8104-a749cb9918c4",
   "metadata": {
    "tags": []
   },
   "outputs": [
    {
     "name": "stdout",
     "output_type": "stream",
     "text": [
      "PING 127.0.0.1 (127.0.0.1) 56(84) bytes of data.\n",
      "64 bytes from 127.0.0.1: icmp_seq=1 ttl=64 time=0.012 ms\n",
      "64 bytes from 127.0.0.1: icmp_seq=2 ttl=64 time=0.035 ms\n",
      "64 bytes from 127.0.0.1: icmp_seq=3 ttl=64 time=0.035 ms\n",
      "64 bytes from 127.0.0.1: icmp_seq=4 ttl=64 time=0.026 ms\n",
      "64 bytes from 127.0.0.1: icmp_seq=5 ttl=64 time=0.031 ms\n",
      "64 bytes from 127.0.0.1: icmp_seq=6 ttl=64 time=0.035 ms\n",
      "64 bytes from 127.0.0.1: icmp_seq=7 ttl=64 time=0.041 ms\n",
      "64 bytes from 127.0.0.1: icmp_seq=8 ttl=64 time=0.045 ms\n",
      "64 bytes from 127.0.0.1: icmp_seq=9 ttl=64 time=0.038 ms\n",
      "64 bytes from 127.0.0.1: icmp_seq=10 ttl=64 time=0.040 ms\n",
      "64 bytes from 127.0.0.1: icmp_seq=11 ttl=64 time=0.021 ms\n",
      "64 bytes from 127.0.0.1: icmp_seq=12 ttl=64 time=0.031 ms\n",
      "64 bytes from 127.0.0.1: icmp_seq=13 ttl=64 time=0.042 ms\n",
      "64 bytes from 127.0.0.1: icmp_seq=14 ttl=64 time=0.036 ms\n",
      "64 bytes from 127.0.0.1: icmp_seq=15 ttl=64 time=0.045 ms\n",
      "64 bytes from 127.0.0.1: icmp_seq=16 ttl=64 time=0.033 ms\n",
      "64 bytes from 127.0.0.1: icmp_seq=17 ttl=64 time=0.037 ms\n",
      "64 bytes from 127.0.0.1: icmp_seq=18 ttl=64 time=0.031 ms\n",
      "64 bytes from 127.0.0.1: icmp_seq=19 ttl=64 time=0.033 ms\n",
      "64 bytes from 127.0.0.1: icmp_seq=20 ttl=64 time=0.032 ms\n",
      "64 bytes from 127.0.0.1: icmp_seq=21 ttl=64 time=0.030 ms\n",
      "64 bytes from 127.0.0.1: icmp_seq=22 ttl=64 time=0.041 ms\n",
      "64 bytes from 127.0.0.1: icmp_seq=23 ttl=64 time=0.035 ms\n",
      "64 bytes from 127.0.0.1: icmp_seq=24 ttl=64 time=0.029 ms\n",
      "64 bytes from 127.0.0.1: icmp_seq=25 ttl=64 time=0.029 ms\n",
      "64 bytes from 127.0.0.1: icmp_seq=26 ttl=64 time=0.040 ms\n",
      "64 bytes from 127.0.0.1: icmp_seq=27 ttl=64 time=0.039 ms\n",
      "64 bytes from 127.0.0.1: icmp_seq=28 ttl=64 time=0.042 ms\n",
      "64 bytes from 127.0.0.1: icmp_seq=29 ttl=64 time=0.037 ms\n",
      "64 bytes from 127.0.0.1: icmp_seq=30 ttl=64 time=0.041 ms\n",
      "64 bytes from 127.0.0.1: icmp_seq=31 ttl=64 time=0.041 ms\n",
      "64 bytes from 127.0.0.1: icmp_seq=32 ttl=64 time=0.034 ms\n",
      "64 bytes from 127.0.0.1: icmp_seq=33 ttl=64 time=0.032 ms\n",
      "64 bytes from 127.0.0.1: icmp_seq=34 ttl=64 time=0.043 ms\n",
      "64 bytes from 127.0.0.1: icmp_seq=35 ttl=64 time=0.038 ms\n",
      "64 bytes from 127.0.0.1: icmp_seq=36 ttl=64 time=0.033 ms\n",
      "64 bytes from 127.0.0.1: icmp_seq=37 ttl=64 time=0.029 ms\n",
      "64 bytes from 127.0.0.1: icmp_seq=38 ttl=64 time=0.142 ms\n",
      "64 bytes from 127.0.0.1: icmp_seq=39 ttl=64 time=0.023 ms\n",
      "64 bytes from 127.0.0.1: icmp_seq=40 ttl=64 time=0.031 ms\n",
      "64 bytes from 127.0.0.1: icmp_seq=41 ttl=64 time=0.022 ms\n",
      "64 bytes from 127.0.0.1: icmp_seq=42 ttl=64 time=0.023 ms\n",
      "64 bytes from 127.0.0.1: icmp_seq=43 ttl=64 time=0.024 ms\n",
      "64 bytes from 127.0.0.1: icmp_seq=44 ttl=64 time=0.012 ms\n",
      "64 bytes from 127.0.0.1: icmp_seq=45 ttl=64 time=0.038 ms\n",
      "64 bytes from 127.0.0.1: icmp_seq=46 ttl=64 time=0.031 ms\n",
      "64 bytes from 127.0.0.1: icmp_seq=47 ttl=64 time=0.037 ms\n",
      "64 bytes from 127.0.0.1: icmp_seq=48 ttl=64 time=0.046 ms\n",
      "64 bytes from 127.0.0.1: icmp_seq=49 ttl=64 time=0.036 ms\n",
      "64 bytes from 127.0.0.1: icmp_seq=50 ttl=64 time=0.046 ms\n",
      "64 bytes from 127.0.0.1: icmp_seq=51 ttl=64 time=0.034 ms\n",
      "64 bytes from 127.0.0.1: icmp_seq=52 ttl=64 time=0.040 ms\n",
      "64 bytes from 127.0.0.1: icmp_seq=53 ttl=64 time=0.030 ms\n",
      "64 bytes from 127.0.0.1: icmp_seq=54 ttl=64 time=0.037 ms\n",
      "64 bytes from 127.0.0.1: icmp_seq=55 ttl=64 time=0.039 ms\n",
      "64 bytes from 127.0.0.1: icmp_seq=56 ttl=64 time=0.036 ms\n",
      "64 bytes from 127.0.0.1: icmp_seq=57 ttl=64 time=0.015 ms\n",
      "64 bytes from 127.0.0.1: icmp_seq=58 ttl=64 time=0.033 ms\n",
      "64 bytes from 127.0.0.1: icmp_seq=59 ttl=64 time=0.015 ms\n",
      "64 bytes from 127.0.0.1: icmp_seq=60 ttl=64 time=0.025 ms\n",
      "64 bytes from 127.0.0.1: icmp_seq=61 ttl=64 time=0.018 ms\n",
      "64 bytes from 127.0.0.1: icmp_seq=62 ttl=64 time=0.020 ms\n",
      "64 bytes from 127.0.0.1: icmp_seq=63 ttl=64 time=0.012 ms\n",
      "64 bytes from 127.0.0.1: icmp_seq=64 ttl=64 time=0.031 ms\n",
      "64 bytes from 127.0.0.1: icmp_seq=65 ttl=64 time=0.038 ms\n",
      "64 bytes from 127.0.0.1: icmp_seq=66 ttl=64 time=0.042 ms\n",
      "64 bytes from 127.0.0.1: icmp_seq=67 ttl=64 time=0.044 ms\n",
      "64 bytes from 127.0.0.1: icmp_seq=68 ttl=64 time=0.043 ms\n",
      "64 bytes from 127.0.0.1: icmp_seq=69 ttl=64 time=0.038 ms\n",
      "64 bytes from 127.0.0.1: icmp_seq=70 ttl=64 time=0.034 ms\n",
      "64 bytes from 127.0.0.1: icmp_seq=71 ttl=64 time=0.028 ms\n",
      "64 bytes from 127.0.0.1: icmp_seq=72 ttl=64 time=0.036 ms\n",
      "64 bytes from 127.0.0.1: icmp_seq=73 ttl=64 time=0.043 ms\n",
      "64 bytes from 127.0.0.1: icmp_seq=74 ttl=64 time=0.035 ms\n",
      "64 bytes from 127.0.0.1: icmp_seq=75 ttl=64 time=0.027 ms\n",
      "64 bytes from 127.0.0.1: icmp_seq=76 ttl=64 time=0.020 ms\n",
      "64 bytes from 127.0.0.1: icmp_seq=77 ttl=64 time=0.033 ms\n",
      "64 bytes from 127.0.0.1: icmp_seq=78 ttl=64 time=0.020 ms\n",
      "64 bytes from 127.0.0.1: icmp_seq=79 ttl=64 time=0.030 ms\n",
      "64 bytes from 127.0.0.1: icmp_seq=80 ttl=64 time=0.017 ms\n",
      "64 bytes from 127.0.0.1: icmp_seq=81 ttl=64 time=0.027 ms\n",
      "64 bytes from 127.0.0.1: icmp_seq=82 ttl=64 time=0.023 ms\n",
      "64 bytes from 127.0.0.1: icmp_seq=83 ttl=64 time=0.027 ms\n",
      "64 bytes from 127.0.0.1: icmp_seq=84 ttl=64 time=0.032 ms\n",
      "64 bytes from 127.0.0.1: icmp_seq=85 ttl=64 time=0.047 ms\n",
      "64 bytes from 127.0.0.1: icmp_seq=86 ttl=64 time=0.037 ms\n",
      "64 bytes from 127.0.0.1: icmp_seq=87 ttl=64 time=0.024 ms\n",
      "64 bytes from 127.0.0.1: icmp_seq=88 ttl=64 time=0.034 ms\n",
      "64 bytes from 127.0.0.1: icmp_seq=89 ttl=64 time=0.037 ms\n",
      "64 bytes from 127.0.0.1: icmp_seq=90 ttl=64 time=0.039 ms\n",
      "64 bytes from 127.0.0.1: icmp_seq=91 ttl=64 time=0.030 ms\n",
      "64 bytes from 127.0.0.1: icmp_seq=92 ttl=64 time=0.036 ms\n",
      "64 bytes from 127.0.0.1: icmp_seq=93 ttl=64 time=0.025 ms\n",
      "64 bytes from 127.0.0.1: icmp_seq=94 ttl=64 time=0.037 ms\n",
      "64 bytes from 127.0.0.1: icmp_seq=95 ttl=64 time=0.027 ms\n",
      "64 bytes from 127.0.0.1: icmp_seq=96 ttl=64 time=0.032 ms\n",
      "64 bytes from 127.0.0.1: icmp_seq=97 ttl=64 time=0.014 ms\n",
      "64 bytes from 127.0.0.1: icmp_seq=98 ttl=64 time=0.021 ms\n",
      "64 bytes from 127.0.0.1: icmp_seq=99 ttl=64 time=0.018 ms\n",
      "64 bytes from 127.0.0.1: icmp_seq=100 ttl=64 time=0.031 ms\n",
      "64 bytes from 127.0.0.1: icmp_seq=101 ttl=64 time=0.025 ms\n",
      "64 bytes from 127.0.0.1: icmp_seq=102 ttl=64 time=0.019 ms\n",
      "64 bytes from 127.0.0.1: icmp_seq=103 ttl=64 time=0.029 ms\n",
      "64 bytes from 127.0.0.1: icmp_seq=104 ttl=64 time=0.037 ms\n",
      "64 bytes from 127.0.0.1: icmp_seq=105 ttl=64 time=0.041 ms\n",
      "64 bytes from 127.0.0.1: icmp_seq=106 ttl=64 time=0.045 ms\n",
      "64 bytes from 127.0.0.1: icmp_seq=107 ttl=64 time=0.040 ms\n",
      "64 bytes from 127.0.0.1: icmp_seq=108 ttl=64 time=0.042 ms\n",
      "64 bytes from 127.0.0.1: icmp_seq=109 ttl=64 time=0.038 ms\n",
      "64 bytes from 127.0.0.1: icmp_seq=110 ttl=64 time=0.042 ms\n",
      "64 bytes from 127.0.0.1: icmp_seq=111 ttl=64 time=0.032 ms\n",
      "64 bytes from 127.0.0.1: icmp_seq=112 ttl=64 time=0.026 ms\n",
      "64 bytes from 127.0.0.1: icmp_seq=113 ttl=64 time=0.040 ms\n",
      "64 bytes from 127.0.0.1: icmp_seq=114 ttl=64 time=0.037 ms\n",
      "64 bytes from 127.0.0.1: icmp_seq=115 ttl=64 time=0.035 ms\n",
      "64 bytes from 127.0.0.1: icmp_seq=116 ttl=64 time=0.015 ms\n",
      "64 bytes from 127.0.0.1: icmp_seq=117 ttl=64 time=0.021 ms\n",
      "64 bytes from 127.0.0.1: icmp_seq=118 ttl=64 time=0.020 ms\n",
      "64 bytes from 127.0.0.1: icmp_seq=119 ttl=64 time=0.027 ms\n",
      "64 bytes from 127.0.0.1: icmp_seq=120 ttl=64 time=0.029 ms\n",
      "64 bytes from 127.0.0.1: icmp_seq=121 ttl=64 time=0.025 ms\n",
      "64 bytes from 127.0.0.1: icmp_seq=122 ttl=64 time=0.024 ms\n",
      "64 bytes from 127.0.0.1: icmp_seq=123 ttl=64 time=0.020 ms\n",
      "64 bytes from 127.0.0.1: icmp_seq=124 ttl=64 time=0.037 ms\n",
      "64 bytes from 127.0.0.1: icmp_seq=125 ttl=64 time=0.042 ms\n",
      "64 bytes from 127.0.0.1: icmp_seq=126 ttl=64 time=0.036 ms\n",
      "64 bytes from 127.0.0.1: icmp_seq=127 ttl=64 time=0.034 ms\n",
      "64 bytes from 127.0.0.1: icmp_seq=128 ttl=64 time=0.042 ms\n",
      "64 bytes from 127.0.0.1: icmp_seq=129 ttl=64 time=0.025 ms\n",
      "64 bytes from 127.0.0.1: icmp_seq=130 ttl=64 time=0.035 ms\n",
      "64 bytes from 127.0.0.1: icmp_seq=131 ttl=64 time=0.034 ms\n",
      "64 bytes from 127.0.0.1: icmp_seq=132 ttl=64 time=0.030 ms\n",
      "64 bytes from 127.0.0.1: icmp_seq=133 ttl=64 time=0.037 ms\n",
      "64 bytes from 127.0.0.1: icmp_seq=134 ttl=64 time=0.026 ms\n",
      "64 bytes from 127.0.0.1: icmp_seq=135 ttl=64 time=0.036 ms\n",
      "64 bytes from 127.0.0.1: icmp_seq=136 ttl=64 time=0.020 ms\n",
      "64 bytes from 127.0.0.1: icmp_seq=137 ttl=64 time=0.023 ms\n",
      "64 bytes from 127.0.0.1: icmp_seq=138 ttl=64 time=0.024 ms\n",
      "64 bytes from 127.0.0.1: icmp_seq=139 ttl=64 time=0.034 ms\n",
      "64 bytes from 127.0.0.1: icmp_seq=140 ttl=64 time=0.018 ms\n",
      "64 bytes from 127.0.0.1: icmp_seq=141 ttl=64 time=0.032 ms\n",
      "64 bytes from 127.0.0.1: icmp_seq=142 ttl=64 time=0.015 ms\n",
      "64 bytes from 127.0.0.1: icmp_seq=143 ttl=64 time=0.037 ms\n",
      "64 bytes from 127.0.0.1: icmp_seq=144 ttl=64 time=0.039 ms\n",
      "64 bytes from 127.0.0.1: icmp_seq=145 ttl=64 time=0.044 ms\n",
      "64 bytes from 127.0.0.1: icmp_seq=146 ttl=64 time=0.034 ms\n",
      "64 bytes from 127.0.0.1: icmp_seq=147 ttl=64 time=0.033 ms\n",
      "64 bytes from 127.0.0.1: icmp_seq=148 ttl=64 time=0.037 ms\n",
      "64 bytes from 127.0.0.1: icmp_seq=149 ttl=64 time=0.040 ms\n",
      "64 bytes from 127.0.0.1: icmp_seq=150 ttl=64 time=0.037 ms\n",
      "64 bytes from 127.0.0.1: icmp_seq=151 ttl=64 time=0.038 ms\n",
      "64 bytes from 127.0.0.1: icmp_seq=152 ttl=64 time=0.040 ms\n",
      "64 bytes from 127.0.0.1: icmp_seq=153 ttl=64 time=0.025 ms\n",
      "64 bytes from 127.0.0.1: icmp_seq=154 ttl=64 time=0.032 ms\n",
      "64 bytes from 127.0.0.1: icmp_seq=155 ttl=64 time=0.017 ms\n",
      "64 bytes from 127.0.0.1: icmp_seq=156 ttl=64 time=0.020 ms\n",
      "64 bytes from 127.0.0.1: icmp_seq=157 ttl=64 time=0.019 ms\n",
      "64 bytes from 127.0.0.1: icmp_seq=158 ttl=64 time=0.034 ms\n",
      "64 bytes from 127.0.0.1: icmp_seq=159 ttl=64 time=0.020 ms\n",
      "64 bytes from 127.0.0.1: icmp_seq=160 ttl=64 time=0.037 ms\n",
      "64 bytes from 127.0.0.1: icmp_seq=161 ttl=64 time=0.030 ms\n",
      "64 bytes from 127.0.0.1: icmp_seq=162 ttl=64 time=0.039 ms\n",
      "64 bytes from 127.0.0.1: icmp_seq=163 ttl=64 time=0.042 ms\n",
      "64 bytes from 127.0.0.1: icmp_seq=164 ttl=64 time=0.045 ms\n",
      "64 bytes from 127.0.0.1: icmp_seq=165 ttl=64 time=0.048 ms\n",
      "64 bytes from 127.0.0.1: icmp_seq=166 ttl=64 time=0.031 ms\n",
      "64 bytes from 127.0.0.1: icmp_seq=167 ttl=64 time=0.036 ms\n",
      "64 bytes from 127.0.0.1: icmp_seq=168 ttl=64 time=0.041 ms\n",
      "64 bytes from 127.0.0.1: icmp_seq=169 ttl=64 time=0.041 ms\n",
      "64 bytes from 127.0.0.1: icmp_seq=170 ttl=64 time=0.016 ms\n",
      "64 bytes from 127.0.0.1: icmp_seq=171 ttl=64 time=0.039 ms\n",
      "64 bytes from 127.0.0.1: icmp_seq=172 ttl=64 time=0.020 ms\n",
      "64 bytes from 127.0.0.1: icmp_seq=173 ttl=64 time=0.033 ms\n",
      "64 bytes from 127.0.0.1: icmp_seq=174 ttl=64 time=0.018 ms\n",
      "64 bytes from 127.0.0.1: icmp_seq=175 ttl=64 time=0.025 ms\n",
      "64 bytes from 127.0.0.1: icmp_seq=176 ttl=64 time=0.034 ms\n",
      "64 bytes from 127.0.0.1: icmp_seq=177 ttl=64 time=0.019 ms\n",
      "64 bytes from 127.0.0.1: icmp_seq=178 ttl=64 time=0.034 ms\n",
      "64 bytes from 127.0.0.1: icmp_seq=179 ttl=64 time=0.033 ms\n",
      "64 bytes from 127.0.0.1: icmp_seq=180 ttl=64 time=0.033 ms\n",
      "64 bytes from 127.0.0.1: icmp_seq=181 ttl=64 time=0.025 ms\n",
      "64 bytes from 127.0.0.1: icmp_seq=182 ttl=64 time=0.036 ms\n",
      "64 bytes from 127.0.0.1: icmp_seq=183 ttl=64 time=0.040 ms\n",
      "64 bytes from 127.0.0.1: icmp_seq=184 ttl=64 time=0.042 ms\n",
      "64 bytes from 127.0.0.1: icmp_seq=185 ttl=64 time=0.030 ms\n",
      "64 bytes from 127.0.0.1: icmp_seq=186 ttl=64 time=0.039 ms\n",
      "64 bytes from 127.0.0.1: icmp_seq=187 ttl=64 time=0.032 ms\n",
      "64 bytes from 127.0.0.1: icmp_seq=188 ttl=64 time=0.037 ms\n",
      "64 bytes from 127.0.0.1: icmp_seq=189 ttl=64 time=0.027 ms\n",
      "64 bytes from 127.0.0.1: icmp_seq=190 ttl=64 time=0.042 ms\n",
      "64 bytes from 127.0.0.1: icmp_seq=191 ttl=64 time=0.025 ms\n",
      "64 bytes from 127.0.0.1: icmp_seq=192 ttl=64 time=0.036 ms\n",
      "64 bytes from 127.0.0.1: icmp_seq=193 ttl=64 time=0.034 ms\n",
      "64 bytes from 127.0.0.1: icmp_seq=194 ttl=64 time=0.031 ms\n",
      "64 bytes from 127.0.0.1: icmp_seq=195 ttl=64 time=0.029 ms\n",
      "64 bytes from 127.0.0.1: icmp_seq=196 ttl=64 time=0.034 ms\n",
      "64 bytes from 127.0.0.1: icmp_seq=197 ttl=64 time=0.034 ms\n",
      "64 bytes from 127.0.0.1: icmp_seq=198 ttl=64 time=0.035 ms\n",
      "64 bytes from 127.0.0.1: icmp_seq=199 ttl=64 time=0.033 ms\n",
      "64 bytes from 127.0.0.1: icmp_seq=200 ttl=64 time=0.033 ms\n",
      "64 bytes from 127.0.0.1: icmp_seq=201 ttl=64 time=0.029 ms\n",
      "64 bytes from 127.0.0.1: icmp_seq=202 ttl=64 time=0.037 ms\n",
      "64 bytes from 127.0.0.1: icmp_seq=203 ttl=64 time=0.044 ms\n",
      "64 bytes from 127.0.0.1: icmp_seq=204 ttl=64 time=0.036 ms\n",
      "64 bytes from 127.0.0.1: icmp_seq=205 ttl=64 time=0.034 ms\n",
      "64 bytes from 127.0.0.1: icmp_seq=206 ttl=64 time=0.041 ms\n",
      "64 bytes from 127.0.0.1: icmp_seq=207 ttl=64 time=0.038 ms\n",
      "64 bytes from 127.0.0.1: icmp_seq=208 ttl=64 time=0.044 ms\n",
      "64 bytes from 127.0.0.1: icmp_seq=209 ttl=64 time=0.031 ms\n",
      "64 bytes from 127.0.0.1: icmp_seq=210 ttl=64 time=0.042 ms\n",
      "64 bytes from 127.0.0.1: icmp_seq=211 ttl=64 time=0.035 ms\n",
      "64 bytes from 127.0.0.1: icmp_seq=212 ttl=64 time=0.036 ms\n",
      "64 bytes from 127.0.0.1: icmp_seq=213 ttl=64 time=0.025 ms\n",
      "64 bytes from 127.0.0.1: icmp_seq=214 ttl=64 time=0.034 ms\n",
      "64 bytes from 127.0.0.1: icmp_seq=215 ttl=64 time=0.026 ms\n",
      "64 bytes from 127.0.0.1: icmp_seq=216 ttl=64 time=0.031 ms\n",
      "64 bytes from 127.0.0.1: icmp_seq=217 ttl=64 time=0.032 ms\n",
      "64 bytes from 127.0.0.1: icmp_seq=218 ttl=64 time=0.032 ms\n",
      "64 bytes from 127.0.0.1: icmp_seq=219 ttl=64 time=0.025 ms\n",
      "64 bytes from 127.0.0.1: icmp_seq=220 ttl=64 time=0.024 ms\n",
      "64 bytes from 127.0.0.1: icmp_seq=221 ttl=64 time=0.035 ms\n",
      "64 bytes from 127.0.0.1: icmp_seq=222 ttl=64 time=0.038 ms\n",
      "64 bytes from 127.0.0.1: icmp_seq=223 ttl=64 time=0.049 ms\n",
      "64 bytes from 127.0.0.1: icmp_seq=224 ttl=64 time=0.029 ms\n",
      "64 bytes from 127.0.0.1: icmp_seq=225 ttl=64 time=0.042 ms\n",
      "64 bytes from 127.0.0.1: icmp_seq=226 ttl=64 time=0.035 ms\n",
      "64 bytes from 127.0.0.1: icmp_seq=227 ttl=64 time=0.040 ms\n",
      "64 bytes from 127.0.0.1: icmp_seq=228 ttl=64 time=0.043 ms\n",
      "64 bytes from 127.0.0.1: icmp_seq=229 ttl=64 time=0.044 ms\n",
      "64 bytes from 127.0.0.1: icmp_seq=230 ttl=64 time=0.041 ms\n"
     ]
    }
   ],
   "source": [
    "!ping 127.0.0.1"
   ]
  },
  {
   "cell_type": "code",
   "execution_count": null,
   "id": "1153b83b-5604-46f5-9059-2c22a4e1c7bc",
   "metadata": {},
   "outputs": [],
   "source": []
  }
 ],
 "metadata": {
  "kernelspec": {
   "display_name": "Python 3 (ipykernel)",
   "language": "python",
   "name": "python3"
  },
  "language_info": {
   "codemirror_mode": {
    "name": "ipython",
    "version": 3
   },
   "file_extension": ".py",
   "mimetype": "text/x-python",
   "name": "python",
   "nbconvert_exporter": "python",
   "pygments_lexer": "ipython3",
   "version": "3.8.10"
  }
 },
 "nbformat": 4,
 "nbformat_minor": 5
}
